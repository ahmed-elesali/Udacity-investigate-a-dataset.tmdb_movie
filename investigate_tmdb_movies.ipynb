{
 "cells": [
  {
   "cell_type": "markdown",
   "metadata": {},
   "source": [
    "\n",
    "\n",
    "# Project is investigation throw TMDb movie data  (cleaned from original data on Kaggle)\n",
    "###  Table of Contents\n",
    "<ul>\n",
    "<li><a href=\"#intro\">Introduction</a></li>\n",
    "<li><a href=\"#wrangling\">Data Wrangling</a></li>\n",
    "<li><a href=\"#eda\">Exploratory Data Analysis</a></li>\n",
    "<li><a href=\"#conclusions\">Conclusions</a></li>\n",
    "</ul>"
   ]
  },
  {
   "cell_type": "markdown",
   "metadata": {},
   "source": [
    "<a id='intro'></a>\n",
    "## Introduction\n",
    "\n",
    ">To complete my Data Analysis project I am using TMDb movies dataset. \n",
    "\n",
    ">This data set contains information about 10 thousand movies collected from The Movie Database (TMDb), including user ratings and revenue. It consist of 21 columns such as imdb_id, revenue, budget, vote_count etc.   \n",
    "\n",
    ">#### **Question that can analyised from this data set**\n",
    "> 1. TOP 5 movies with the highest and lowest revenue and profit\n",
    "> 2. TOP 5 movies with largest and lowest budgets\n",
    "> 3. TOP 5 Movies with longest and shortest runtime values\n",
    "> 4. Average runtime of all the movies.\n",
    "> 5. which year  had most of profitable movies.\n",
    "> 6. Successful genres (with respest to the profitable movies).\n",
    "> 7. Most frequent cast  (with respest to the profitable movies)\n",
    "> 8. Average budget  (with respest to the profitable movies)\n",
    "> 9. Average revenue  (with respest to the profitable movies)\n",
    "> 10. Average duration of the movie  (with respest to the profitable movies)\n",
    "  \n"
   ]
  },
  {
   "cell_type": "code",
   "execution_count": 23,
   "metadata": {
    "collapsed": true
   },
   "outputs": [],
   "source": [
    "import pandas as pd\n",
    "import numpy as np\n",
    "import matplotlib.pyplot as plt \n",
    "%matplotlib inline\n",
    "import seaborn as sns \n"
   ]
  },
  {
   "cell_type": "markdown",
   "metadata": {},
   "source": [
    "<a id='wrangling'></a>\n",
    "## Data Wrangling\n",
    "\n",
    "> **Tip**: In this section of the report, you will load in the data, check for cleanliness, and then trim and clean your dataset for analysis. Make sure that you document your steps carefully and justify your cleaning decisions.\n",
    "\n",
    "### General Properties"
   ]
  },
  {
   "cell_type": "code",
   "execution_count": 24,
   "metadata": {
    "collapsed": true
   },
   "outputs": [
    {
     "data": {
      "text/html": [
       "<div>\n",
       "<style scoped>\n",
       "    .dataframe tbody tr th:only-of-type {\n",
       "        vertical-align: middle;\n",
       "    }\n",
       "\n",
       "    .dataframe tbody tr th {\n",
       "        vertical-align: top;\n",
       "    }\n",
       "\n",
       "    .dataframe thead th {\n",
       "        text-align: right;\n",
       "    }\n",
       "</style>\n",
       "<table border=\"1\" class=\"dataframe\">\n",
       "  <thead>\n",
       "    <tr style=\"text-align: right;\">\n",
       "      <th></th>\n",
       "      <th>id</th>\n",
       "      <th>imdb_id</th>\n",
       "      <th>popularity</th>\n",
       "      <th>budget</th>\n",
       "      <th>revenue</th>\n",
       "      <th>original_title</th>\n",
       "      <th>cast</th>\n",
       "      <th>homepage</th>\n",
       "      <th>director</th>\n",
       "      <th>tagline</th>\n",
       "      <th>...</th>\n",
       "      <th>overview</th>\n",
       "      <th>runtime</th>\n",
       "      <th>genres</th>\n",
       "      <th>production_companies</th>\n",
       "      <th>release_date</th>\n",
       "      <th>vote_count</th>\n",
       "      <th>vote_average</th>\n",
       "      <th>release_year</th>\n",
       "      <th>budget_adj</th>\n",
       "      <th>revenue_adj</th>\n",
       "    </tr>\n",
       "  </thead>\n",
       "  <tbody>\n",
       "    <tr>\n",
       "      <th>0</th>\n",
       "      <td>135397</td>\n",
       "      <td>tt0369610</td>\n",
       "      <td>32.985763</td>\n",
       "      <td>150000000</td>\n",
       "      <td>1513528810</td>\n",
       "      <td>Jurassic World</td>\n",
       "      <td>Chris Pratt|Bryce Dallas Howard|Irrfan Khan|Vi...</td>\n",
       "      <td>http://www.jurassicworld.com/</td>\n",
       "      <td>Colin Trevorrow</td>\n",
       "      <td>The park is open.</td>\n",
       "      <td>...</td>\n",
       "      <td>Twenty-two years after the events of Jurassic ...</td>\n",
       "      <td>124</td>\n",
       "      <td>Action|Adventure|Science Fiction|Thriller</td>\n",
       "      <td>Universal Studios|Amblin Entertainment|Legenda...</td>\n",
       "      <td>6/9/15</td>\n",
       "      <td>5562</td>\n",
       "      <td>6.5</td>\n",
       "      <td>2015</td>\n",
       "      <td>1.379999e+08</td>\n",
       "      <td>1.392446e+09</td>\n",
       "    </tr>\n",
       "    <tr>\n",
       "      <th>1</th>\n",
       "      <td>76341</td>\n",
       "      <td>tt1392190</td>\n",
       "      <td>28.419936</td>\n",
       "      <td>150000000</td>\n",
       "      <td>378436354</td>\n",
       "      <td>Mad Max: Fury Road</td>\n",
       "      <td>Tom Hardy|Charlize Theron|Hugh Keays-Byrne|Nic...</td>\n",
       "      <td>http://www.madmaxmovie.com/</td>\n",
       "      <td>George Miller</td>\n",
       "      <td>What a Lovely Day.</td>\n",
       "      <td>...</td>\n",
       "      <td>An apocalyptic story set in the furthest reach...</td>\n",
       "      <td>120</td>\n",
       "      <td>Action|Adventure|Science Fiction|Thriller</td>\n",
       "      <td>Village Roadshow Pictures|Kennedy Miller Produ...</td>\n",
       "      <td>5/13/15</td>\n",
       "      <td>6185</td>\n",
       "      <td>7.1</td>\n",
       "      <td>2015</td>\n",
       "      <td>1.379999e+08</td>\n",
       "      <td>3.481613e+08</td>\n",
       "    </tr>\n",
       "    <tr>\n",
       "      <th>2</th>\n",
       "      <td>262500</td>\n",
       "      <td>tt2908446</td>\n",
       "      <td>13.112507</td>\n",
       "      <td>110000000</td>\n",
       "      <td>295238201</td>\n",
       "      <td>Insurgent</td>\n",
       "      <td>Shailene Woodley|Theo James|Kate Winslet|Ansel...</td>\n",
       "      <td>http://www.thedivergentseries.movie/#insurgent</td>\n",
       "      <td>Robert Schwentke</td>\n",
       "      <td>One Choice Can Destroy You</td>\n",
       "      <td>...</td>\n",
       "      <td>Beatrice Prior must confront her inner demons ...</td>\n",
       "      <td>119</td>\n",
       "      <td>Adventure|Science Fiction|Thriller</td>\n",
       "      <td>Summit Entertainment|Mandeville Films|Red Wago...</td>\n",
       "      <td>3/18/15</td>\n",
       "      <td>2480</td>\n",
       "      <td>6.3</td>\n",
       "      <td>2015</td>\n",
       "      <td>1.012000e+08</td>\n",
       "      <td>2.716190e+08</td>\n",
       "    </tr>\n",
       "    <tr>\n",
       "      <th>3</th>\n",
       "      <td>140607</td>\n",
       "      <td>tt2488496</td>\n",
       "      <td>11.173104</td>\n",
       "      <td>200000000</td>\n",
       "      <td>2068178225</td>\n",
       "      <td>Star Wars: The Force Awakens</td>\n",
       "      <td>Harrison Ford|Mark Hamill|Carrie Fisher|Adam D...</td>\n",
       "      <td>http://www.starwars.com/films/star-wars-episod...</td>\n",
       "      <td>J.J. Abrams</td>\n",
       "      <td>Every generation has a story.</td>\n",
       "      <td>...</td>\n",
       "      <td>Thirty years after defeating the Galactic Empi...</td>\n",
       "      <td>136</td>\n",
       "      <td>Action|Adventure|Science Fiction|Fantasy</td>\n",
       "      <td>Lucasfilm|Truenorth Productions|Bad Robot</td>\n",
       "      <td>12/15/15</td>\n",
       "      <td>5292</td>\n",
       "      <td>7.5</td>\n",
       "      <td>2015</td>\n",
       "      <td>1.839999e+08</td>\n",
       "      <td>1.902723e+09</td>\n",
       "    </tr>\n",
       "    <tr>\n",
       "      <th>4</th>\n",
       "      <td>168259</td>\n",
       "      <td>tt2820852</td>\n",
       "      <td>9.335014</td>\n",
       "      <td>190000000</td>\n",
       "      <td>1506249360</td>\n",
       "      <td>Furious 7</td>\n",
       "      <td>Vin Diesel|Paul Walker|Jason Statham|Michelle ...</td>\n",
       "      <td>http://www.furious7.com/</td>\n",
       "      <td>James Wan</td>\n",
       "      <td>Vengeance Hits Home</td>\n",
       "      <td>...</td>\n",
       "      <td>Deckard Shaw seeks revenge against Dominic Tor...</td>\n",
       "      <td>137</td>\n",
       "      <td>Action|Crime|Thriller</td>\n",
       "      <td>Universal Pictures|Original Film|Media Rights ...</td>\n",
       "      <td>4/1/15</td>\n",
       "      <td>2947</td>\n",
       "      <td>7.3</td>\n",
       "      <td>2015</td>\n",
       "      <td>1.747999e+08</td>\n",
       "      <td>1.385749e+09</td>\n",
       "    </tr>\n",
       "  </tbody>\n",
       "</table>\n",
       "<p>5 rows × 21 columns</p>\n",
       "</div>"
      ],
      "text/plain": [
       "       id    imdb_id  popularity     budget     revenue  \\\n",
       "0  135397  tt0369610   32.985763  150000000  1513528810   \n",
       "1   76341  tt1392190   28.419936  150000000   378436354   \n",
       "2  262500  tt2908446   13.112507  110000000   295238201   \n",
       "3  140607  tt2488496   11.173104  200000000  2068178225   \n",
       "4  168259  tt2820852    9.335014  190000000  1506249360   \n",
       "\n",
       "                 original_title  \\\n",
       "0                Jurassic World   \n",
       "1            Mad Max: Fury Road   \n",
       "2                     Insurgent   \n",
       "3  Star Wars: The Force Awakens   \n",
       "4                     Furious 7   \n",
       "\n",
       "                                                cast  \\\n",
       "0  Chris Pratt|Bryce Dallas Howard|Irrfan Khan|Vi...   \n",
       "1  Tom Hardy|Charlize Theron|Hugh Keays-Byrne|Nic...   \n",
       "2  Shailene Woodley|Theo James|Kate Winslet|Ansel...   \n",
       "3  Harrison Ford|Mark Hamill|Carrie Fisher|Adam D...   \n",
       "4  Vin Diesel|Paul Walker|Jason Statham|Michelle ...   \n",
       "\n",
       "                                            homepage          director  \\\n",
       "0                      http://www.jurassicworld.com/   Colin Trevorrow   \n",
       "1                        http://www.madmaxmovie.com/     George Miller   \n",
       "2     http://www.thedivergentseries.movie/#insurgent  Robert Schwentke   \n",
       "3  http://www.starwars.com/films/star-wars-episod...       J.J. Abrams   \n",
       "4                           http://www.furious7.com/         James Wan   \n",
       "\n",
       "                         tagline  ...  \\\n",
       "0              The park is open.  ...   \n",
       "1             What a Lovely Day.  ...   \n",
       "2     One Choice Can Destroy You  ...   \n",
       "3  Every generation has a story.  ...   \n",
       "4            Vengeance Hits Home  ...   \n",
       "\n",
       "                                            overview runtime  \\\n",
       "0  Twenty-two years after the events of Jurassic ...     124   \n",
       "1  An apocalyptic story set in the furthest reach...     120   \n",
       "2  Beatrice Prior must confront her inner demons ...     119   \n",
       "3  Thirty years after defeating the Galactic Empi...     136   \n",
       "4  Deckard Shaw seeks revenge against Dominic Tor...     137   \n",
       "\n",
       "                                      genres  \\\n",
       "0  Action|Adventure|Science Fiction|Thriller   \n",
       "1  Action|Adventure|Science Fiction|Thriller   \n",
       "2         Adventure|Science Fiction|Thriller   \n",
       "3   Action|Adventure|Science Fiction|Fantasy   \n",
       "4                      Action|Crime|Thriller   \n",
       "\n",
       "                                production_companies release_date vote_count  \\\n",
       "0  Universal Studios|Amblin Entertainment|Legenda...       6/9/15       5562   \n",
       "1  Village Roadshow Pictures|Kennedy Miller Produ...      5/13/15       6185   \n",
       "2  Summit Entertainment|Mandeville Films|Red Wago...      3/18/15       2480   \n",
       "3          Lucasfilm|Truenorth Productions|Bad Robot     12/15/15       5292   \n",
       "4  Universal Pictures|Original Film|Media Rights ...       4/1/15       2947   \n",
       "\n",
       "   vote_average  release_year    budget_adj   revenue_adj  \n",
       "0           6.5          2015  1.379999e+08  1.392446e+09  \n",
       "1           7.1          2015  1.379999e+08  3.481613e+08  \n",
       "2           6.3          2015  1.012000e+08  2.716190e+08  \n",
       "3           7.5          2015  1.839999e+08  1.902723e+09  \n",
       "4           7.3          2015  1.747999e+08  1.385749e+09  \n",
       "\n",
       "[5 rows x 21 columns]"
      ]
     },
     "execution_count": 24,
     "metadata": {},
     "output_type": "execute_result"
    }
   ],
   "source": [
    "# Load your data and print out a few lines. Perform operations to inspect data\n",
    "#   types and look for instances of missing or possibly errant data.\n",
    "#loading the csv file and storing it in the dataframe \"df\"\n",
    "df = pd.read_csv('tmdb-movies.csv')\n",
    "#printing first five rows with defined columns of tmdb-movies database\n",
    "df.head()\n"
   ]
  },
  {
   "cell_type": "markdown",
   "metadata": {},
   "source": [
    "### Data Cleaning (Removing the unused information from the dataset )\n",
    "\n",
    "**Important noting regarding this process**\n",
    "\n",
    " 1. drop unnecessary columns such as id, imdb_id, vote_count, production_company,etc.    \n",
    " 2. Some movies have zero values in budget and revenue,so need to drop such entries \n",
    " 3. drop duplicated rows (if any)  \n",
    " 5. changing to date_time  in the release date column \n",
    " 6. changing the type of data from (float) into (int) in budget and revenue columns"
   ]
  },
  {
   "cell_type": "markdown",
   "metadata": {},
   "source": [
    "## 1. Drop unnecessary columns : null\n",
    "\n",
    "**[ id, imdb_id, homepage, director, tagline, keywords, production_companies, budget_adj, revenue_adj ]**"
   ]
  },
  {
   "cell_type": "code",
   "execution_count": 25,
   "metadata": {
    "collapsed": true
   },
   "outputs": [
    {
     "data": {
      "text/html": [
       "<div>\n",
       "<style scoped>\n",
       "    .dataframe tbody tr th:only-of-type {\n",
       "        vertical-align: middle;\n",
       "    }\n",
       "\n",
       "    .dataframe tbody tr th {\n",
       "        vertical-align: top;\n",
       "    }\n",
       "\n",
       "    .dataframe thead th {\n",
       "        text-align: right;\n",
       "    }\n",
       "</style>\n",
       "<table border=\"1\" class=\"dataframe\">\n",
       "  <thead>\n",
       "    <tr style=\"text-align: right;\">\n",
       "      <th></th>\n",
       "      <th>popularity</th>\n",
       "      <th>budget</th>\n",
       "      <th>revenue</th>\n",
       "      <th>original_title</th>\n",
       "      <th>cast</th>\n",
       "      <th>overview</th>\n",
       "      <th>runtime</th>\n",
       "      <th>genres</th>\n",
       "      <th>release_date</th>\n",
       "      <th>vote_count</th>\n",
       "      <th>vote_average</th>\n",
       "      <th>release_year</th>\n",
       "    </tr>\n",
       "  </thead>\n",
       "  <tbody>\n",
       "    <tr>\n",
       "      <th>0</th>\n",
       "      <td>32.985763</td>\n",
       "      <td>150000000</td>\n",
       "      <td>1513528810</td>\n",
       "      <td>Jurassic World</td>\n",
       "      <td>Chris Pratt|Bryce Dallas Howard|Irrfan Khan|Vi...</td>\n",
       "      <td>Twenty-two years after the events of Jurassic ...</td>\n",
       "      <td>124</td>\n",
       "      <td>Action|Adventure|Science Fiction|Thriller</td>\n",
       "      <td>6/9/15</td>\n",
       "      <td>5562</td>\n",
       "      <td>6.5</td>\n",
       "      <td>2015</td>\n",
       "    </tr>\n",
       "    <tr>\n",
       "      <th>1</th>\n",
       "      <td>28.419936</td>\n",
       "      <td>150000000</td>\n",
       "      <td>378436354</td>\n",
       "      <td>Mad Max: Fury Road</td>\n",
       "      <td>Tom Hardy|Charlize Theron|Hugh Keays-Byrne|Nic...</td>\n",
       "      <td>An apocalyptic story set in the furthest reach...</td>\n",
       "      <td>120</td>\n",
       "      <td>Action|Adventure|Science Fiction|Thriller</td>\n",
       "      <td>5/13/15</td>\n",
       "      <td>6185</td>\n",
       "      <td>7.1</td>\n",
       "      <td>2015</td>\n",
       "    </tr>\n",
       "    <tr>\n",
       "      <th>2</th>\n",
       "      <td>13.112507</td>\n",
       "      <td>110000000</td>\n",
       "      <td>295238201</td>\n",
       "      <td>Insurgent</td>\n",
       "      <td>Shailene Woodley|Theo James|Kate Winslet|Ansel...</td>\n",
       "      <td>Beatrice Prior must confront her inner demons ...</td>\n",
       "      <td>119</td>\n",
       "      <td>Adventure|Science Fiction|Thriller</td>\n",
       "      <td>3/18/15</td>\n",
       "      <td>2480</td>\n",
       "      <td>6.3</td>\n",
       "      <td>2015</td>\n",
       "    </tr>\n",
       "    <tr>\n",
       "      <th>3</th>\n",
       "      <td>11.173104</td>\n",
       "      <td>200000000</td>\n",
       "      <td>2068178225</td>\n",
       "      <td>Star Wars: The Force Awakens</td>\n",
       "      <td>Harrison Ford|Mark Hamill|Carrie Fisher|Adam D...</td>\n",
       "      <td>Thirty years after defeating the Galactic Empi...</td>\n",
       "      <td>136</td>\n",
       "      <td>Action|Adventure|Science Fiction|Fantasy</td>\n",
       "      <td>12/15/15</td>\n",
       "      <td>5292</td>\n",
       "      <td>7.5</td>\n",
       "      <td>2015</td>\n",
       "    </tr>\n",
       "    <tr>\n",
       "      <th>4</th>\n",
       "      <td>9.335014</td>\n",
       "      <td>190000000</td>\n",
       "      <td>1506249360</td>\n",
       "      <td>Furious 7</td>\n",
       "      <td>Vin Diesel|Paul Walker|Jason Statham|Michelle ...</td>\n",
       "      <td>Deckard Shaw seeks revenge against Dominic Tor...</td>\n",
       "      <td>137</td>\n",
       "      <td>Action|Crime|Thriller</td>\n",
       "      <td>4/1/15</td>\n",
       "      <td>2947</td>\n",
       "      <td>7.3</td>\n",
       "      <td>2015</td>\n",
       "    </tr>\n",
       "  </tbody>\n",
       "</table>\n",
       "</div>"
      ],
      "text/plain": [
       "   popularity     budget     revenue                original_title  \\\n",
       "0   32.985763  150000000  1513528810                Jurassic World   \n",
       "1   28.419936  150000000   378436354            Mad Max: Fury Road   \n",
       "2   13.112507  110000000   295238201                     Insurgent   \n",
       "3   11.173104  200000000  2068178225  Star Wars: The Force Awakens   \n",
       "4    9.335014  190000000  1506249360                     Furious 7   \n",
       "\n",
       "                                                cast  \\\n",
       "0  Chris Pratt|Bryce Dallas Howard|Irrfan Khan|Vi...   \n",
       "1  Tom Hardy|Charlize Theron|Hugh Keays-Byrne|Nic...   \n",
       "2  Shailene Woodley|Theo James|Kate Winslet|Ansel...   \n",
       "3  Harrison Ford|Mark Hamill|Carrie Fisher|Adam D...   \n",
       "4  Vin Diesel|Paul Walker|Jason Statham|Michelle ...   \n",
       "\n",
       "                                            overview  runtime  \\\n",
       "0  Twenty-two years after the events of Jurassic ...      124   \n",
       "1  An apocalyptic story set in the furthest reach...      120   \n",
       "2  Beatrice Prior must confront her inner demons ...      119   \n",
       "3  Thirty years after defeating the Galactic Empi...      136   \n",
       "4  Deckard Shaw seeks revenge against Dominic Tor...      137   \n",
       "\n",
       "                                      genres release_date  vote_count  \\\n",
       "0  Action|Adventure|Science Fiction|Thriller       6/9/15        5562   \n",
       "1  Action|Adventure|Science Fiction|Thriller      5/13/15        6185   \n",
       "2         Adventure|Science Fiction|Thriller      3/18/15        2480   \n",
       "3   Action|Adventure|Science Fiction|Fantasy     12/15/15        5292   \n",
       "4                      Action|Crime|Thriller       4/1/15        2947   \n",
       "\n",
       "   vote_average  release_year  \n",
       "0           6.5          2015  \n",
       "1           7.1          2015  \n",
       "2           6.3          2015  \n",
       "3           7.5          2015  \n",
       "4           7.3          2015  "
      ]
     },
     "execution_count": 25,
     "metadata": {},
     "output_type": "execute_result"
    }
   ],
   "source": [
    "# drop cloumn with  not needed\n",
    "\n",
    "drop = df.drop(columns=['id', 'imdb_id', 'homepage', 'director', 'tagline', 'keywords',\n",
    "         'production_companies', 'budget_adj', 'revenue_adj'], inplace=True)\n",
    "\n",
    "df.head()\n"
   ]
  },
  {
   "cell_type": "markdown",
   "metadata": {},
   "source": [
    "## 2 Drop 0 values\n"
   ]
  },
  {
   "cell_type": "code",
   "execution_count": 26,
   "metadata": {},
   "outputs": [
    {
     "data": {
      "text/plain": [
       "(0, 0)"
      ]
     },
     "execution_count": 26,
     "metadata": {},
     "output_type": "execute_result"
    }
   ],
   "source": [
    "# convert 0 values to na\n",
    "df.replace(0, np.nan, inplace=True)\n",
    "df[df == 0].any().sum()\n",
    "# drop the na  row\n",
    "df.dropna(inplace=True)\n",
    "na = df.isna().any().sum()\n",
    "zero= df[df == 0].any().sum()\n",
    "# check the data with no nan or 0\n",
    "na , zero"
   ]
  },
  {
   "cell_type": "markdown",
   "metadata": {},
   "source": [
    "# 3 drop duplicated rows"
   ]
  },
  {
   "cell_type": "code",
   "execution_count": 27,
   "metadata": {},
   "outputs": [
    {
     "name": "stdout",
     "output_type": "stream",
     "text": [
      "there is :  1 duplicates in the data set\n"
     ]
    }
   ],
   "source": [
    "# view the duplicated rows\n",
    "duplicted = df[df.duplicated()].value_counts().sum()\n",
    "print('there is : ',duplicted,'duplicates in the data set')\n",
    "\n"
   ]
  },
  {
   "cell_type": "code",
   "execution_count": 28,
   "metadata": {},
   "outputs": [
    {
     "data": {
      "text/plain": [
       "False"
      ]
     },
     "execution_count": 28,
     "metadata": {},
     "output_type": "execute_result"
    }
   ],
   "source": [
    "# removing the duplicates row \n",
    "\n",
    "df.drop_duplicates(inplace=True)\n",
    "# check for duplicated\n",
    "df.duplicated().any()"
   ]
  },
  {
   "cell_type": "markdown",
   "metadata": {},
   "source": [
    "### 4 changing the release date fromate "
   ]
  },
  {
   "cell_type": "code",
   "execution_count": 29,
   "metadata": {},
   "outputs": [],
   "source": [
    "# convert release_date to date_time\n",
    "df['release_date'] = pd.to_datetime(df['release_date'], format='%m/%d/%y')\n"
   ]
  },
  {
   "cell_type": "markdown",
   "metadata": {},
   "source": [
    " ### 6. changing the type of data from (float) into (int) in budget and revenue columns and adding profit column"
   ]
  },
  {
   "cell_type": "code",
   "execution_count": 30,
   "metadata": {},
   "outputs": [
    {
     "data": {
      "text/html": [
       "<div>\n",
       "<style scoped>\n",
       "    .dataframe tbody tr th:only-of-type {\n",
       "        vertical-align: middle;\n",
       "    }\n",
       "\n",
       "    .dataframe tbody tr th {\n",
       "        vertical-align: top;\n",
       "    }\n",
       "\n",
       "    .dataframe thead th {\n",
       "        text-align: right;\n",
       "    }\n",
       "</style>\n",
       "<table border=\"1\" class=\"dataframe\">\n",
       "  <thead>\n",
       "    <tr style=\"text-align: right;\">\n",
       "      <th></th>\n",
       "      <th>popularity</th>\n",
       "      <th>budget</th>\n",
       "      <th>revenue</th>\n",
       "      <th>profit</th>\n",
       "      <th>original_title</th>\n",
       "      <th>cast</th>\n",
       "      <th>overview</th>\n",
       "      <th>runtime</th>\n",
       "      <th>genres</th>\n",
       "      <th>release_date</th>\n",
       "      <th>vote_count</th>\n",
       "      <th>vote_average</th>\n",
       "      <th>release_year</th>\n",
       "    </tr>\n",
       "  </thead>\n",
       "  <tbody>\n",
       "    <tr>\n",
       "      <th>0</th>\n",
       "      <td>32.985763</td>\n",
       "      <td>150000000</td>\n",
       "      <td>1513528810</td>\n",
       "      <td>1363528810</td>\n",
       "      <td>Jurassic World</td>\n",
       "      <td>Chris Pratt|Bryce Dallas Howard|Irrfan Khan|Vi...</td>\n",
       "      <td>Twenty-two years after the events of Jurassic ...</td>\n",
       "      <td>124.0</td>\n",
       "      <td>Action|Adventure|Science Fiction|Thriller</td>\n",
       "      <td>2015-06-09</td>\n",
       "      <td>5562</td>\n",
       "      <td>6.5</td>\n",
       "      <td>2015</td>\n",
       "    </tr>\n",
       "  </tbody>\n",
       "</table>\n",
       "</div>"
      ],
      "text/plain": [
       "   popularity     budget     revenue      profit  original_title  \\\n",
       "0   32.985763  150000000  1513528810  1363528810  Jurassic World   \n",
       "\n",
       "                                                cast  \\\n",
       "0  Chris Pratt|Bryce Dallas Howard|Irrfan Khan|Vi...   \n",
       "\n",
       "                                            overview  runtime  \\\n",
       "0  Twenty-two years after the events of Jurassic ...    124.0   \n",
       "\n",
       "                                      genres release_date  vote_count  \\\n",
       "0  Action|Adventure|Science Fiction|Thriller   2015-06-09        5562   \n",
       "\n",
       "   vote_average  release_year  \n",
       "0           6.5          2015  "
      ]
     },
     "execution_count": 30,
     "metadata": {},
     "output_type": "execute_result"
    }
   ],
   "source": [
    "# convert  revenue  andbudget to int \n",
    "df.revenue = df.revenue.astype(int) \n",
    "df.budget =df.budget.astype(int)\n",
    "\n",
    "# adding profit columns \n",
    "\n",
    "profit = df.revenue - df.budget\n",
    "df.insert(3,'profit',profit)\n",
    "\n",
    "df.head(1)\n"
   ]
  },
  {
   "cell_type": "code",
   "execution_count": null,
   "metadata": {},
   "outputs": [],
   "source": []
  },
  {
   "cell_type": "markdown",
   "metadata": {},
   "source": [
    "# to make less code in the cells i gather my functions in on cell \n"
   ]
  },
  {
   "cell_type": "code",
   "execution_count": 31,
   "metadata": {},
   "outputs": [],
   "source": [
    "# create function to pivot  the data \n",
    "\n",
    "def pivot(column):\n",
    "    \n",
    "    group = ['popularity','genres','budget','profit','revenue','release_date','release_year','runtime',] \n",
    "    pivot_tabl = pd.pivot_table(df,index=group,values='original_title',aggfunc=max).sort_values(by = column ,ascending =False)\n",
    "    return pivot_tabl\n",
    "\n",
    "profit_top_5 = pivot(\"profit\").head() \n",
    "profit_low_5 = pivot(\"profit\").tail()\n",
    "\n",
    "\n",
    "# create  function to find average of a column\n",
    "def avg(column):\n",
    "    return df[column].mean()"
   ]
  },
  {
   "cell_type": "markdown",
   "metadata": {},
   "source": [
    "<a id='eda'></a>\n",
    "## Exploratory Data Analysis\n",
    "\n",
    "> **Tip**: Now that you've trimmed and cleaned your data, you're ready to move on to exploration. Compute statistics and create visualizations with the goal of addressing the research questions that you posed in the Introduction section. It is recommended that you be systematic with your approach. Look at one variable at a time, and then follow it up by looking at relationships between variables.\n",
    "\n",
    "### Research Question 1  TOP 5 movies with the highest and lowest revenue and profit\n"
   ]
  },
  {
   "cell_type": "code",
   "execution_count": 32,
   "metadata": {},
   "outputs": [
    {
     "data": {
      "text/html": [
       "<div>\n",
       "<style scoped>\n",
       "    .dataframe tbody tr th:only-of-type {\n",
       "        vertical-align: middle;\n",
       "    }\n",
       "\n",
       "    .dataframe tbody tr th {\n",
       "        vertical-align: top;\n",
       "    }\n",
       "\n",
       "    .dataframe thead th {\n",
       "        text-align: right;\n",
       "    }\n",
       "</style>\n",
       "<table border=\"1\" class=\"dataframe\">\n",
       "  <thead>\n",
       "    <tr style=\"text-align: right;\">\n",
       "      <th></th>\n",
       "      <th></th>\n",
       "      <th></th>\n",
       "      <th></th>\n",
       "      <th></th>\n",
       "      <th></th>\n",
       "      <th></th>\n",
       "      <th></th>\n",
       "      <th>original_title</th>\n",
       "    </tr>\n",
       "    <tr>\n",
       "      <th>popularity</th>\n",
       "      <th>genres</th>\n",
       "      <th>budget</th>\n",
       "      <th>profit</th>\n",
       "      <th>revenue</th>\n",
       "      <th>release_date</th>\n",
       "      <th>release_year</th>\n",
       "      <th>runtime</th>\n",
       "      <th></th>\n",
       "    </tr>\n",
       "  </thead>\n",
       "  <tbody>\n",
       "    <tr>\n",
       "      <th>9.432768</th>\n",
       "      <th>Action|Adventure|Fantasy|Science Fiction</th>\n",
       "      <th>237000000</th>\n",
       "      <th>2544505847</th>\n",
       "      <th>2781505847</th>\n",
       "      <th>2009-12-10</th>\n",
       "      <th>2009</th>\n",
       "      <th>162.0</th>\n",
       "      <td>Avatar</td>\n",
       "    </tr>\n",
       "    <tr>\n",
       "      <th>11.173104</th>\n",
       "      <th>Action|Adventure|Science Fiction|Fantasy</th>\n",
       "      <th>200000000</th>\n",
       "      <th>1868178225</th>\n",
       "      <th>2068178225</th>\n",
       "      <th>2015-12-15</th>\n",
       "      <th>2015</th>\n",
       "      <th>136.0</th>\n",
       "      <td>Star Wars: The Force Awakens</td>\n",
       "    </tr>\n",
       "    <tr>\n",
       "      <th>4.355219</th>\n",
       "      <th>Drama|Romance|Thriller</th>\n",
       "      <th>200000000</th>\n",
       "      <th>1645034188</th>\n",
       "      <th>1845034188</th>\n",
       "      <th>1997-11-18</th>\n",
       "      <th>1997</th>\n",
       "      <th>194.0</th>\n",
       "      <td>Titanic</td>\n",
       "    </tr>\n",
       "    <tr>\n",
       "      <th>32.985763</th>\n",
       "      <th>Action|Adventure|Science Fiction|Thriller</th>\n",
       "      <th>150000000</th>\n",
       "      <th>1363528810</th>\n",
       "      <th>1513528810</th>\n",
       "      <th>2015-06-09</th>\n",
       "      <th>2015</th>\n",
       "      <th>124.0</th>\n",
       "      <td>Jurassic World</td>\n",
       "    </tr>\n",
       "    <tr>\n",
       "      <th>9.335014</th>\n",
       "      <th>Action|Crime|Thriller</th>\n",
       "      <th>190000000</th>\n",
       "      <th>1316249360</th>\n",
       "      <th>1506249360</th>\n",
       "      <th>2015-04-01</th>\n",
       "      <th>2015</th>\n",
       "      <th>137.0</th>\n",
       "      <td>Furious 7</td>\n",
       "    </tr>\n",
       "  </tbody>\n",
       "</table>\n",
       "</div>"
      ],
      "text/plain": [
       "                                                                                                                                      original_title\n",
       "popularity genres                                    budget    profit     revenue    release_date release_year runtime                              \n",
       "9.432768   Action|Adventure|Fantasy|Science Fiction  237000000 2544505847 2781505847 2009-12-10   2009         162.0                          Avatar\n",
       "11.173104  Action|Adventure|Science Fiction|Fantasy  200000000 1868178225 2068178225 2015-12-15   2015         136.0    Star Wars: The Force Awakens\n",
       "4.355219   Drama|Romance|Thriller                    200000000 1645034188 1845034188 1997-11-18   1997         194.0                         Titanic\n",
       "32.985763  Action|Adventure|Science Fiction|Thriller 150000000 1363528810 1513528810 2015-06-09   2015         124.0                  Jurassic World\n",
       "9.335014   Action|Crime|Thriller                     190000000 1316249360 1506249360 2015-04-01   2015         137.0                       Furious 7"
      ]
     },
     "execution_count": 32,
     "metadata": {},
     "output_type": "execute_result"
    }
   ],
   "source": [
    "# the top 5 high profit movies  and revenue\n",
    "profit_top_5"
   ]
  },
  {
   "cell_type": "code",
   "execution_count": 33,
   "metadata": {},
   "outputs": [
    {
     "data": {
      "text/html": [
       "<div>\n",
       "<style scoped>\n",
       "    .dataframe tbody tr th:only-of-type {\n",
       "        vertical-align: middle;\n",
       "    }\n",
       "\n",
       "    .dataframe tbody tr th {\n",
       "        vertical-align: top;\n",
       "    }\n",
       "\n",
       "    .dataframe thead th {\n",
       "        text-align: right;\n",
       "    }\n",
       "</style>\n",
       "<table border=\"1\" class=\"dataframe\">\n",
       "  <thead>\n",
       "    <tr style=\"text-align: right;\">\n",
       "      <th></th>\n",
       "      <th></th>\n",
       "      <th></th>\n",
       "      <th></th>\n",
       "      <th></th>\n",
       "      <th></th>\n",
       "      <th></th>\n",
       "      <th></th>\n",
       "      <th>original_title</th>\n",
       "    </tr>\n",
       "    <tr>\n",
       "      <th>popularity</th>\n",
       "      <th>genres</th>\n",
       "      <th>budget</th>\n",
       "      <th>profit</th>\n",
       "      <th>revenue</th>\n",
       "      <th>release_date</th>\n",
       "      <th>release_year</th>\n",
       "      <th>runtime</th>\n",
       "      <th></th>\n",
       "    </tr>\n",
       "  </thead>\n",
       "  <tbody>\n",
       "    <tr>\n",
       "      <th>1.653031</th>\n",
       "      <th>Animation|Adventure|Family|Fantasy</th>\n",
       "      <th>100000000</th>\n",
       "      <th>-99999750</th>\n",
       "      <th>250</th>\n",
       "      <th>2003-10-20</th>\n",
       "      <th>2003</th>\n",
       "      <th>85.0</th>\n",
       "      <td>Brother Bear</td>\n",
       "    </tr>\n",
       "    <tr>\n",
       "      <th>0.921653</th>\n",
       "      <th>Adventure|Animation|Family</th>\n",
       "      <th>150000000</th>\n",
       "      <th>-111007242</th>\n",
       "      <th>38992758</th>\n",
       "      <th>2011-03-09</th>\n",
       "      <th>2011</th>\n",
       "      <th>88.0</th>\n",
       "      <td>Mars Needs Moms</td>\n",
       "    </tr>\n",
       "    <tr>\n",
       "      <th>0.948560</th>\n",
       "      <th>Western|History|War</th>\n",
       "      <th>145000000</th>\n",
       "      <th>-119180039</th>\n",
       "      <th>25819961</th>\n",
       "      <th>2004-04-07</th>\n",
       "      <th>2004</th>\n",
       "      <th>137.0</th>\n",
       "      <td>The Alamo</td>\n",
       "    </tr>\n",
       "    <tr>\n",
       "      <th>1.214510</th>\n",
       "      <th>Action|Adventure|Western</th>\n",
       "      <th>255000000</th>\n",
       "      <th>-165710090</th>\n",
       "      <th>89289910</th>\n",
       "      <th>2013-07-03</th>\n",
       "      <th>2013</th>\n",
       "      <th>149.0</th>\n",
       "      <td>The Lone Ranger</td>\n",
       "    </tr>\n",
       "    <tr>\n",
       "      <th>0.250540</th>\n",
       "      <th>Adventure|Fantasy|Action|Western|Thriller</th>\n",
       "      <th>425000000</th>\n",
       "      <th>-413912431</th>\n",
       "      <th>11087569</th>\n",
       "      <th>2010-12-02</th>\n",
       "      <th>2010</th>\n",
       "      <th>100.0</th>\n",
       "      <td>The Warrior's Way</td>\n",
       "    </tr>\n",
       "  </tbody>\n",
       "</table>\n",
       "</div>"
      ],
      "text/plain": [
       "                                                                                                                         original_title\n",
       "popularity genres                                    budget    profit     revenue  release_date release_year runtime                   \n",
       "1.653031   Animation|Adventure|Family|Fantasy        100000000 -99999750  250      2003-10-20   2003         85.0          Brother Bear\n",
       "0.921653   Adventure|Animation|Family                150000000 -111007242 38992758 2011-03-09   2011         88.0       Mars Needs Moms\n",
       "0.948560   Western|History|War                       145000000 -119180039 25819961 2004-04-07   2004         137.0            The Alamo\n",
       "1.214510   Action|Adventure|Western                  255000000 -165710090 89289910 2013-07-03   2013         149.0      The Lone Ranger\n",
       "0.250540   Adventure|Fantasy|Action|Western|Thriller 425000000 -413912431 11087569 2010-12-02   2010         100.0    The Warrior's Way"
      ]
     },
     "execution_count": 33,
     "metadata": {},
     "output_type": "execute_result"
    }
   ],
   "source": [
    "# the top 5 low profit movies and revenue\n",
    "profit_low_5"
   ]
  },
  {
   "cell_type": "markdown",
   "metadata": {},
   "source": [
    " ### Top 5 movies :\n",
    "  1. Avatar : made over\n",
    "  2. Star wars : made over \n",
    "  3. Titanic : made over \n",
    "  4. Jurassic World \n",
    "  5. Furious 7 \n",
    "\n",
    "\n",
    "### Lowest movies :\n",
    "  1.  Brother Bear \n",
    "  2. Mars Needs Moms\n",
    "  3. The Alamo\n",
    "  4. The Lone Ranger\n",
    "  5. The Warrior's way "
   ]
  },
  {
   "cell_type": "markdown",
   "metadata": {},
   "source": [
    "### Research Question 2 Top 5 largest and lowest budget \n"
   ]
  },
  {
   "cell_type": "code",
   "execution_count": 48,
   "metadata": {
    "collapsed": true
   },
   "outputs": [
    {
     "data": {
      "text/html": [
       "<div>\n",
       "<style scoped>\n",
       "    .dataframe tbody tr th:only-of-type {\n",
       "        vertical-align: middle;\n",
       "    }\n",
       "\n",
       "    .dataframe tbody tr th {\n",
       "        vertical-align: top;\n",
       "    }\n",
       "\n",
       "    .dataframe thead th {\n",
       "        text-align: right;\n",
       "    }\n",
       "</style>\n",
       "<table border=\"1\" class=\"dataframe\">\n",
       "  <thead>\n",
       "    <tr style=\"text-align: right;\">\n",
       "      <th></th>\n",
       "      <th></th>\n",
       "      <th></th>\n",
       "      <th></th>\n",
       "      <th></th>\n",
       "      <th></th>\n",
       "      <th></th>\n",
       "      <th></th>\n",
       "      <th>original_title</th>\n",
       "    </tr>\n",
       "    <tr>\n",
       "      <th>popularity</th>\n",
       "      <th>genres</th>\n",
       "      <th>budget</th>\n",
       "      <th>profit</th>\n",
       "      <th>revenue</th>\n",
       "      <th>release_date</th>\n",
       "      <th>release_year</th>\n",
       "      <th>runtime</th>\n",
       "      <th></th>\n",
       "    </tr>\n",
       "  </thead>\n",
       "  <tbody>\n",
       "    <tr>\n",
       "      <th>0.250540</th>\n",
       "      <th>Adventure|Fantasy|Action|Western|Thriller</th>\n",
       "      <th>425000000</th>\n",
       "      <th>-413912431</th>\n",
       "      <th>11087569</th>\n",
       "      <th>2010-12-02</th>\n",
       "      <th>2010</th>\n",
       "      <th>100.0</th>\n",
       "      <td>The Warrior's Way</td>\n",
       "    </tr>\n",
       "    <tr>\n",
       "      <th>4.955130</th>\n",
       "      <th>Adventure|Action|Fantasy</th>\n",
       "      <th>380000000</th>\n",
       "      <th>641683000</th>\n",
       "      <th>1021683000</th>\n",
       "      <th>2011-05-11</th>\n",
       "      <th>2011</th>\n",
       "      <th>136.0</th>\n",
       "      <td>Pirates of the Caribbean: On Stranger Tides</td>\n",
       "    </tr>\n",
       "    <tr>\n",
       "      <th>4.965391</th>\n",
       "      <th>Adventure|Fantasy|Action</th>\n",
       "      <th>300000000</th>\n",
       "      <th>661000000</th>\n",
       "      <th>961000000</th>\n",
       "      <th>2007-05-19</th>\n",
       "      <th>2007</th>\n",
       "      <th>169.0</th>\n",
       "      <td>Pirates of the Caribbean: At World's End</td>\n",
       "    </tr>\n",
       "    <tr>\n",
       "      <th>5.944927</th>\n",
       "      <th>Action|Adventure|Science Fiction</th>\n",
       "      <th>280000000</th>\n",
       "      <th>1125035767</th>\n",
       "      <th>1405035767</th>\n",
       "      <th>2015-04-22</th>\n",
       "      <th>2015</th>\n",
       "      <th>141.0</th>\n",
       "      <td>Avengers: Age of Ultron</td>\n",
       "    </tr>\n",
       "    <tr>\n",
       "      <th>1.957331</th>\n",
       "      <th>Adventure|Fantasy|Action|Science Fiction</th>\n",
       "      <th>270000000</th>\n",
       "      <th>121081192</th>\n",
       "      <th>391081192</th>\n",
       "      <th>2006-06-28</th>\n",
       "      <th>2006</th>\n",
       "      <th>154.0</th>\n",
       "      <td>Superman Returns</td>\n",
       "    </tr>\n",
       "  </tbody>\n",
       "</table>\n",
       "</div>"
      ],
      "text/plain": [
       "                                                                                                                                                      original_title\n",
       "popularity genres                                    budget    profit      revenue    release_date release_year runtime                                             \n",
       "0.250540   Adventure|Fantasy|Action|Western|Thriller 425000000 -413912431  11087569   2010-12-02   2010         100.0                              The Warrior's Way\n",
       "4.955130   Adventure|Action|Fantasy                  380000000  641683000  1021683000 2011-05-11   2011         136.0    Pirates of the Caribbean: On Stranger Tides\n",
       "4.965391   Adventure|Fantasy|Action                  300000000  661000000  961000000  2007-05-19   2007         169.0       Pirates of the Caribbean: At World's End\n",
       "5.944927   Action|Adventure|Science Fiction          280000000  1125035767 1405035767 2015-04-22   2015         141.0                        Avengers: Age of Ultron\n",
       "1.957331   Adventure|Fantasy|Action|Science Fiction  270000000  121081192  391081192  2006-06-28   2006         154.0                               Superman Returns"
      ]
     },
     "execution_count": 48,
     "metadata": {},
     "output_type": "execute_result"
    }
   ],
   "source": [
    "# pivot the budget \n",
    "budget_top_5 =pivot('budget').head()\n",
    "budget_low_5 =pivot('budget').tail()\n",
    "\n",
    "# the top 5 largest \n",
    "budget_top_5"
   ]
  },
  {
   "cell_type": "code",
   "execution_count": 35,
   "metadata": {},
   "outputs": [
    {
     "data": {
      "text/html": [
       "<div>\n",
       "<style scoped>\n",
       "    .dataframe tbody tr th:only-of-type {\n",
       "        vertical-align: middle;\n",
       "    }\n",
       "\n",
       "    .dataframe tbody tr th {\n",
       "        vertical-align: top;\n",
       "    }\n",
       "\n",
       "    .dataframe thead th {\n",
       "        text-align: right;\n",
       "    }\n",
       "</style>\n",
       "<table border=\"1\" class=\"dataframe\">\n",
       "  <thead>\n",
       "    <tr style=\"text-align: right;\">\n",
       "      <th></th>\n",
       "      <th></th>\n",
       "      <th></th>\n",
       "      <th></th>\n",
       "      <th></th>\n",
       "      <th></th>\n",
       "      <th></th>\n",
       "      <th></th>\n",
       "      <th>original_title</th>\n",
       "    </tr>\n",
       "    <tr>\n",
       "      <th>popularity</th>\n",
       "      <th>genres</th>\n",
       "      <th>budget</th>\n",
       "      <th>profit</th>\n",
       "      <th>revenue</th>\n",
       "      <th>release_date</th>\n",
       "      <th>release_year</th>\n",
       "      <th>runtime</th>\n",
       "      <th></th>\n",
       "    </tr>\n",
       "  </thead>\n",
       "  <tbody>\n",
       "    <tr>\n",
       "      <th>0.028456</th>\n",
       "      <th>Drama|Comedy</th>\n",
       "      <th>3</th>\n",
       "      <th>40</th>\n",
       "      <th>43</th>\n",
       "      <th>2010-02-14</th>\n",
       "      <th>2010</th>\n",
       "      <th>87.0</th>\n",
       "      <td>Boy</td>\n",
       "    </tr>\n",
       "    <tr>\n",
       "      <th>0.317091</th>\n",
       "      <th>Fantasy|Horror|Comedy</th>\n",
       "      <th>3</th>\n",
       "      <th>13</th>\n",
       "      <th>16</th>\n",
       "      <th>1990-05-03</th>\n",
       "      <th>1990</th>\n",
       "      <th>93.0</th>\n",
       "      <td>Tales from the Darkside: The Movie</td>\n",
       "    </tr>\n",
       "    <tr>\n",
       "      <th>0.464188</th>\n",
       "      <th>Action|Crime|Thriller</th>\n",
       "      <th>2</th>\n",
       "      <th>14</th>\n",
       "      <th>16</th>\n",
       "      <th>1982-02-20</th>\n",
       "      <th>1982</th>\n",
       "      <th>88.0</th>\n",
       "      <td>Death Wish 2</td>\n",
       "    </tr>\n",
       "    <tr>\n",
       "      <th>0.090186</th>\n",
       "      <th>Comedy|Romance</th>\n",
       "      <th>1</th>\n",
       "      <th>99</th>\n",
       "      <th>100</th>\n",
       "      <th>1999-04-23</th>\n",
       "      <th>1999</th>\n",
       "      <th>95.0</th>\n",
       "      <td>Lost &amp; Found</td>\n",
       "    </tr>\n",
       "    <tr>\n",
       "      <th>0.520430</th>\n",
       "      <th>Comedy|Romance</th>\n",
       "      <th>1</th>\n",
       "      <th>1377</th>\n",
       "      <th>1378</th>\n",
       "      <th>2011-06-03</th>\n",
       "      <th>2011</th>\n",
       "      <th>90.0</th>\n",
       "      <td>Love, Wedding, Marriage</td>\n",
       "    </tr>\n",
       "  </tbody>\n",
       "</table>\n",
       "</div>"
      ],
      "text/plain": [
       "                                                                                                              original_title\n",
       "popularity genres                budget profit revenue release_date release_year runtime                                    \n",
       "0.028456   Drama|Comedy          3      40     43      2010-02-14   2010         87.0                                    Boy\n",
       "0.317091   Fantasy|Horror|Comedy 3      13     16      1990-05-03   1990         93.0     Tales from the Darkside: The Movie\n",
       "0.464188   Action|Crime|Thriller 2      14     16      1982-02-20   1982         88.0                           Death Wish 2\n",
       "0.090186   Comedy|Romance        1      99     100     1999-04-23   1999         95.0                           Lost & Found\n",
       "0.520430   Comedy|Romance        1      1377   1378    2011-06-03   2011         90.0                Love, Wedding, Marriage"
      ]
     },
     "execution_count": 35,
     "metadata": {},
     "output_type": "execute_result"
    }
   ],
   "source": [
    "budget_low_5"
   ]
  },
  {
   "cell_type": "markdown",
   "metadata": {},
   "source": [
    "### movies with high budget :\n",
    "1. The Warrior's Way\n",
    "2. Pirates of the Caribbean: On Stranger Tides\n",
    "3. Pirates of the Caribbean: At World's End\n",
    "4. Avengers: Age of Ultron\n",
    "5. Superman Returns\n",
    "### Lowest movies budget : \n",
    "1. Love, Wedding, Marriage\n",
    "2. Lost & Found\n",
    "3. Death Wish 2\n",
    "4. Tales from the Darkside: The Movie\n",
    "5. Boy\n"
   ]
  },
  {
   "cell_type": "markdown",
   "metadata": {},
   "source": [
    "\n",
    "###  Research Question  3 TOP 5 Movies with longest and shortest runtime values"
   ]
  },
  {
   "cell_type": "code",
   "execution_count": 36,
   "metadata": {},
   "outputs": [
    {
     "data": {
      "text/html": [
       "<div>\n",
       "<style scoped>\n",
       "    .dataframe tbody tr th:only-of-type {\n",
       "        vertical-align: middle;\n",
       "    }\n",
       "\n",
       "    .dataframe tbody tr th {\n",
       "        vertical-align: top;\n",
       "    }\n",
       "\n",
       "    .dataframe thead th {\n",
       "        text-align: right;\n",
       "    }\n",
       "</style>\n",
       "<table border=\"1\" class=\"dataframe\">\n",
       "  <thead>\n",
       "    <tr style=\"text-align: right;\">\n",
       "      <th></th>\n",
       "      <th></th>\n",
       "      <th></th>\n",
       "      <th></th>\n",
       "      <th></th>\n",
       "      <th></th>\n",
       "      <th></th>\n",
       "      <th></th>\n",
       "      <th>original_title</th>\n",
       "    </tr>\n",
       "    <tr>\n",
       "      <th>popularity</th>\n",
       "      <th>genres</th>\n",
       "      <th>budget</th>\n",
       "      <th>profit</th>\n",
       "      <th>revenue</th>\n",
       "      <th>release_date</th>\n",
       "      <th>release_year</th>\n",
       "      <th>runtime</th>\n",
       "      <th></th>\n",
       "    </tr>\n",
       "  </thead>\n",
       "  <tbody>\n",
       "    <tr>\n",
       "      <th>0.534192</th>\n",
       "      <th>Crime|Drama|Thriller|History</th>\n",
       "      <th>18000000</th>\n",
       "      <th>-17128721</th>\n",
       "      <th>871279</th>\n",
       "      <th>2010-05-19</th>\n",
       "      <th>2010</th>\n",
       "      <th>338.0</th>\n",
       "      <td>Carlos</td>\n",
       "    </tr>\n",
       "    <tr>\n",
       "      <th>0.804533</th>\n",
       "      <th>Drama|History|Romance</th>\n",
       "      <th>31115000</th>\n",
       "      <th>26635000</th>\n",
       "      <th>57750000</th>\n",
       "      <th>2063-06-12</th>\n",
       "      <th>1963</th>\n",
       "      <th>248.0</th>\n",
       "      <td>Cleopatra</td>\n",
       "    </tr>\n",
       "    <tr>\n",
       "      <th>0.418950</th>\n",
       "      <th>Action|Drama|History|Western</th>\n",
       "      <th>44000000</th>\n",
       "      <th>-40515669</th>\n",
       "      <th>3484331</th>\n",
       "      <th>1980-11-19</th>\n",
       "      <th>1980</th>\n",
       "      <th>219.0</th>\n",
       "      <td>Heaven's Gate</td>\n",
       "    </tr>\n",
       "    <tr>\n",
       "      <th>1.168767</th>\n",
       "      <th>Adventure|Drama|History|War</th>\n",
       "      <th>15000000</th>\n",
       "      <th>55000000</th>\n",
       "      <th>70000000</th>\n",
       "      <th>2062-12-10</th>\n",
       "      <th>1962</th>\n",
       "      <th>216.0</th>\n",
       "      <td>Lawrence of Arabia</td>\n",
       "    </tr>\n",
       "    <tr>\n",
       "      <th>0.469518</th>\n",
       "      <th>Drama|History|War</th>\n",
       "      <th>56000000</th>\n",
       "      <th>-43076064</th>\n",
       "      <th>12923936</th>\n",
       "      <th>2003-02-21</th>\n",
       "      <th>2003</th>\n",
       "      <th>214.0</th>\n",
       "      <td>Gods and Generals</td>\n",
       "    </tr>\n",
       "  </tbody>\n",
       "</table>\n",
       "</div>"
      ],
      "text/plain": [
       "                                                                                                           original_title\n",
       "popularity genres                       budget   profit    revenue  release_date release_year runtime                    \n",
       "0.534192   Crime|Drama|Thriller|History 18000000 -17128721 871279   2010-05-19   2010         338.0                Carlos\n",
       "0.804533   Drama|History|Romance        31115000  26635000 57750000 2063-06-12   1963         248.0             Cleopatra\n",
       "0.418950   Action|Drama|History|Western 44000000 -40515669 3484331  1980-11-19   1980         219.0         Heaven's Gate\n",
       "1.168767   Adventure|Drama|History|War  15000000  55000000 70000000 2062-12-10   1962         216.0    Lawrence of Arabia\n",
       "0.469518   Drama|History|War            56000000 -43076064 12923936 2003-02-21   2003         214.0     Gods and Generals"
      ]
     },
     "execution_count": 36,
     "metadata": {},
     "output_type": "execute_result"
    }
   ],
   "source": [
    "runtime_top_5=pivot('runtime').head(5)\n",
    "runtime_low_5=pivot('runtime').tail()\n",
    "\n",
    "runtime_top_5"
   ]
  },
  {
   "cell_type": "code",
   "execution_count": 37,
   "metadata": {},
   "outputs": [
    {
     "data": {
      "text/html": [
       "<div>\n",
       "<style scoped>\n",
       "    .dataframe tbody tr th:only-of-type {\n",
       "        vertical-align: middle;\n",
       "    }\n",
       "\n",
       "    .dataframe tbody tr th {\n",
       "        vertical-align: top;\n",
       "    }\n",
       "\n",
       "    .dataframe thead th {\n",
       "        text-align: right;\n",
       "    }\n",
       "</style>\n",
       "<table border=\"1\" class=\"dataframe\">\n",
       "  <thead>\n",
       "    <tr style=\"text-align: right;\">\n",
       "      <th></th>\n",
       "      <th></th>\n",
       "      <th></th>\n",
       "      <th></th>\n",
       "      <th></th>\n",
       "      <th></th>\n",
       "      <th></th>\n",
       "      <th></th>\n",
       "      <th>original_title</th>\n",
       "    </tr>\n",
       "    <tr>\n",
       "      <th>popularity</th>\n",
       "      <th>genres</th>\n",
       "      <th>budget</th>\n",
       "      <th>profit</th>\n",
       "      <th>revenue</th>\n",
       "      <th>release_date</th>\n",
       "      <th>release_year</th>\n",
       "      <th>runtime</th>\n",
       "      <th></th>\n",
       "    </tr>\n",
       "  </thead>\n",
       "  <tbody>\n",
       "    <tr>\n",
       "      <th>1.425344</th>\n",
       "      <th>Animation|Family</th>\n",
       "      <th>30000000</th>\n",
       "      <th>-15540000</th>\n",
       "      <th>14460000</th>\n",
       "      <th>2011-04-13</th>\n",
       "      <th>2011</th>\n",
       "      <th>63.0</th>\n",
       "      <td>Winnie the Pooh</td>\n",
       "    </tr>\n",
       "    <tr>\n",
       "      <th>0.331313</th>\n",
       "      <th>Comedy</th>\n",
       "      <th>250000</th>\n",
       "      <th>750000</th>\n",
       "      <th>1000000</th>\n",
       "      <th>2011-12-10</th>\n",
       "      <th>2011</th>\n",
       "      <th>62.0</th>\n",
       "      <td>Louis C.K.: Live at the Beacon Theater</td>\n",
       "    </tr>\n",
       "    <tr>\n",
       "      <th>0.352054</th>\n",
       "      <th>Adventure|Action|Comedy|Science Fiction|Music</th>\n",
       "      <th>200000</th>\n",
       "      <th>-199997</th>\n",
       "      <th>3</th>\n",
       "      <th>2008-07-15</th>\n",
       "      <th>2008</th>\n",
       "      <th>42.0</th>\n",
       "      <td>Dr. Horrible's Sing-Along Blog</td>\n",
       "    </tr>\n",
       "    <tr>\n",
       "      <th>0.592219</th>\n",
       "      <th>Family|Animation</th>\n",
       "      <th>3000000</th>\n",
       "      <th>18000000</th>\n",
       "      <th>21000000</th>\n",
       "      <th>1983-10-19</th>\n",
       "      <th>1983</th>\n",
       "      <th>26.0</th>\n",
       "      <td>Mickey's Christmas Carol</td>\n",
       "    </tr>\n",
       "    <tr>\n",
       "      <th>0.208637</th>\n",
       "      <th>Science Fiction|Animation</th>\n",
       "      <th>10</th>\n",
       "      <th>-5</th>\n",
       "      <th>5</th>\n",
       "      <th>2003-06-02</th>\n",
       "      <th>2003</th>\n",
       "      <th>15.0</th>\n",
       "      <td>Kid's Story</td>\n",
       "    </tr>\n",
       "  </tbody>\n",
       "</table>\n",
       "</div>"
      ],
      "text/plain": [
       "                                                                                                                                                original_title\n",
       "popularity genres                                        budget   profit    revenue  release_date release_year runtime                                        \n",
       "1.425344   Animation|Family                              30000000 -15540000 14460000 2011-04-13   2011         63.0                            Winnie the Pooh\n",
       "0.331313   Comedy                                        250000    750000   1000000  2011-12-10   2011         62.0     Louis C.K.: Live at the Beacon Theater\n",
       "0.352054   Adventure|Action|Comedy|Science Fiction|Music 200000   -199997   3        2008-07-15   2008         42.0             Dr. Horrible's Sing-Along Blog\n",
       "0.592219   Family|Animation                              3000000   18000000 21000000 1983-10-19   1983         26.0                   Mickey's Christmas Carol\n",
       "0.208637   Science Fiction|Animation                     10       -5        5        2003-06-02   2003         15.0                                Kid's Story"
      ]
     },
     "execution_count": 37,
     "metadata": {},
     "output_type": "execute_result"
    }
   ],
   "source": [
    "runtime_low_5"
   ]
  },
  {
   "cell_type": "markdown",
   "metadata": {},
   "source": [
    "### Longest Top 5 movies :\n",
    "1. Carlos --3380 minute\n",
    "2. Cleopatra --248 minute\n",
    "3. Heaven's Gate --219 minute\n",
    "4.  Lawrence of Arabia --216 minute\n",
    "5. Gods and Generals --214 minute\n",
    "### shortest runtime movies :\n",
    "1. Kid's Story 15 minute\n",
    "2. Mickey's Christmas Carol --26 minute\n",
    "3. Dr. Horrible's Sing-Along Blog --42 minute\n",
    "4. Louis C.K.: Live at the Beacon Theater --62 minute\n",
    "5. Winnie the Pooh -- 63 minute\n",
    "\n"
   ]
  },
  {
   "cell_type": "markdown",
   "metadata": {},
   "source": [
    "### Research Question 4 Top 5 runtime of all the movies."
   ]
  },
  {
   "cell_type": "code",
   "execution_count": 38,
   "metadata": {},
   "outputs": [
    {
     "data": {
      "text/plain": [
       "109.22883116883116"
      ]
     },
     "execution_count": 38,
     "metadata": {},
     "output_type": "execute_result"
    }
   ],
   "source": [
    "avg('runtime')"
   ]
  },
  {
   "cell_type": "code",
   "execution_count": 51,
   "metadata": {},
   "outputs": [
    {
     "data": {
      "text/plain": [
       "count    3850.000000\n",
       "mean      109.228831\n",
       "std        19.924053\n",
       "min        15.000000\n",
       "25%        95.250000\n",
       "50%       106.000000\n",
       "75%       119.000000\n",
       "max       338.000000\n",
       "Name: runtime, dtype: float64"
      ]
     },
     "execution_count": 51,
     "metadata": {},
     "output_type": "execute_result"
    }
   ],
   "source": [
    "df['runtime'].describe()"
   ]
  },
  {
   "cell_type": "markdown",
   "metadata": {},
   "source": [
    ">By looking at both the plot and calculations, we can conclude that..\n",
    ">\n",
    "> 1. 25% of movies have a runtime of less than 95 minutes\n",
    "> 2. 50% of movies have a runtime of less than 109 minutes. (median)\n",
    "> 3. 75% of movies have a runtime of less than 119 minutes\n"
   ]
  },
  {
   "cell_type": "markdown",
   "metadata": {},
   "source": [
    "### the average of runtime for movie is 109 minute "
   ]
  },
  {
   "cell_type": "code",
   "execution_count": 49,
   "metadata": {},
   "outputs": [
    {
     "data": {
      "image/png": "[encoded data removed]",
      "text/plain": [
       "<Figure size 900x500 with 1 Axes>"
      ]
     },
     "metadata": {
      "needs_background": "light"
     },
     "output_type": "display_data"
    }
   ],
   "source": [
    "#plotting a histogram of runtime of movies\n",
    "\n",
    "#giving the figure size(width, height)\n",
    "plt.figure(figsize=(9,5), dpi = 100)\n",
    "\n",
    "#On x-axis \n",
    "plt.xlabel('Runtime of the Movies', fontsize = 15)\n",
    "#On y-axis \n",
    "plt.ylabel('Nos.of Movies in the Dataset', fontsize=15)\n",
    "#Name of the graph\n",
    "plt.title('Runtime of all the movies', fontsize=15)\n",
    "\n",
    "#giving a histogram plot\n",
    "plt.hist(df['runtime'], rwidth = 0.9, bins =35)\n",
    "#displays the plot\n",
    "plt.show()"
   ]
  },
  {
   "cell_type": "markdown",
   "metadata": {},
   "source": [
    " > The distribution of the above graph is   right skewed! Most of the movies are timed between 80 to 115 minutes. Almost 1000 and more no.of movies fall in this criteria. "
   ]
  },
  {
   "cell_type": "markdown",
   "metadata": {},
   "source": [
    "### Research Question 5 which year  had most of profitable movies."
   ]
  },
  {
   "cell_type": "code",
   "execution_count": 39,
   "metadata": {},
   "outputs": [
    {
     "data": {
      "image/png": "[encoded data removed]",
      "text/plain": [
       "<Figure size 1560x780 with 1 Axes>"
      ]
     },
     "metadata": {
      "needs_background": "light"
     },
     "output_type": "display_data"
    }
   ],
   "source": [
    "year_profit = df.groupby('release_year')['profit'].sum()\n",
    "#figure size(width, height)\n",
    "\n",
    "\n",
    "plt.figure(figsize=(12,6), dpi = 130)\n",
    "\n",
    "#on x-axis\n",
    "plt.xlabel(' Release Year ', fontsize = 12)\n",
    "#on y-axis\n",
    "plt.ylabel('Profits earned by Movies', fontsize = 12)\n",
    "#title of the line plot\n",
    "plt.title('\"Profitable movies VS  Years ')\n",
    "\n",
    "#plotting the graph\n",
    "plt.plot(year_profit);\n",
    "\n"
   ]
  },
  {
   "cell_type": "markdown",
   "metadata": {},
   "source": [
    "### Research Question 6 Successful genres (to the profitable movies)"
   ]
  },
  {
   "cell_type": "markdown",
   "metadata": {},
   "source": [
    "### This far we want to clean more about profit movies so let's say that the movie considered profitable is form 60 million or above "
   ]
  },
  {
   "cell_type": "code",
   "execution_count": 40,
   "metadata": {},
   "outputs": [],
   "source": [
    "# so in this far we want to clean more\n",
    "\n",
    "profit_movies = df[df['profit']>=60000000]\n",
    "\n",
    "profit_movies.head(5)\n",
    "\n",
    "\n",
    "\n",
    "def call(column):\n",
    "    #will take a column, and separate the string by '|'\n",
    "    data_series = profit_movies[column].str.cat(sep = '|')\n",
    "    \n",
    "    #giving pandas series and storing the values separately\n",
    "    data_series = pd.Series(data_series.split('|'))\n",
    "    \n",
    "    #arranging in descending order\n",
    "    count = data_series.value_counts(ascending = False)\n",
    "    \n",
    "    return count\n",
    "\n",
    "\n",
    "def average_p (column):\n",
    "    return profit_movies[column].mean()\n"
   ]
  },
  {
   "cell_type": "code",
   "execution_count": 54,
   "metadata": {},
   "outputs": [
    {
     "data": {
      "text/plain": [
       "1197"
      ]
     },
     "execution_count": 54,
     "metadata": {},
     "output_type": "execute_result"
    }
   ],
   "source": [
    "len(profit_movies)"
   ]
  },
  {
   "cell_type": "markdown",
   "metadata": {},
   "source": [
    "### so te data reduced from 3850 to 1197"
   ]
  },
  {
   "cell_type": "code",
   "execution_count": 41,
   "metadata": {},
   "outputs": [
    {
     "data": {
      "text/plain": [
       "Comedy             434\n",
       "Action             426\n",
       "Drama              419\n",
       "Thriller           358\n",
       "Adventure          348\n",
       "Family             208\n",
       "Romance            194\n",
       "Science Fiction    188\n",
       "Fantasy            183\n",
       "Crime              167\n",
       "Animation          116\n",
       "Horror             109\n",
       "Mystery             99\n",
       "Music               45\n",
       "War                 42\n",
       "History             33\n",
       "Western             14\n",
       "Documentary          4\n",
       "Foreign              1\n",
       "dtype: int64"
      ]
     },
     "execution_count": 41,
     "metadata": {},
     "output_type": "execute_result"
    }
   ],
   "source": [
    "\n",
    "gener = call('genres')\n",
    "\n",
    "gener"
   ]
  },
  {
   "cell_type": "code",
   "execution_count": 42,
   "metadata": {},
   "outputs": [
    {
     "data": {
      "image/png": "[encoded data removed]",
      "text/plain": [
       "<Figure size 864x648 with 1 Axes>"
      ]
     },
     "metadata": {
      "needs_background": "light"
     },
     "output_type": "display_data"
    }
   ],
   "source": [
    "# visual the gener \n",
    "\n",
    "gener.sort_values(ascending = True, inplace = True)\n",
    "\n",
    "#ploting\n",
    "lt = gener.plot.barh( fontsize = 13)\n",
    "\n",
    "#title\n",
    "lt.set(title = 'Frequent Used Genres in Profitable Movies')\n",
    "\n",
    "# on x axis\n",
    "lt.set_xlabel('Nos.of Movies in the dataset', color = 'black', fontsize = '13', )\n",
    "\n",
    "#figure size(width, height)\n",
    "lt.figure.set_size_inches(12, 9)\n"
   ]
  },
  {
   "cell_type": "markdown",
   "metadata": {},
   "source": [
    "### from the graph above we can see that Comedy and action are top genres  "
   ]
  },
  {
   "cell_type": "markdown",
   "metadata": {},
   "source": [
    "### Research Question 7  Most frequent cast  (to the profitable movies)"
   ]
  },
  {
   "cell_type": "code",
   "execution_count": 55,
   "metadata": {},
   "outputs": [
    {
     "data": {
      "text/plain": [
       "Tom Cruise            26\n",
       "Tom Hanks             22\n",
       "Brad Pitt             22\n",
       "Sylvester Stallone    21\n",
       "Cameron Diaz          20\n",
       "dtype: int64"
      ]
     },
     "execution_count": 55,
     "metadata": {},
     "output_type": "execute_result"
    }
   ],
   "source": [
    "# now the most frequnet cast is \n",
    "cast =call('cast')\n",
    "cast.head(5)"
   ]
  },
  {
   "cell_type": "markdown",
   "metadata": {},
   "source": [
    "> As expecteted Tom Cruise is on the top with total 27 cast followed by Brad Pitt with 25 and Tom Hanks with 22.  "
   ]
  },
  {
   "cell_type": "markdown",
   "metadata": {},
   "source": [
    "### Research Question 8 Averag budget  (to the profitable movies)"
   ]
  },
  {
   "cell_type": "code",
   "execution_count": 44,
   "metadata": {},
   "outputs": [
    {
     "data": {
      "text/plain": [
       "63757867.39515455"
      ]
     },
     "execution_count": 44,
     "metadata": {},
     "output_type": "execute_result"
    }
   ],
   "source": [
    "average_p('budget')"
   ]
  },
  {
   "cell_type": "markdown",
   "metadata": {},
   "source": [
    "> So the movies having profit of 60 million dollar and more have an average budget of 63 million dollar."
   ]
  },
  {
   "cell_type": "markdown",
   "metadata": {},
   "source": [
    "### Research Question 9  Average revenue  (to the profitable movies)"
   ]
  },
  {
   "cell_type": "code",
   "execution_count": 45,
   "metadata": {},
   "outputs": [
    {
     "data": {
      "text/plain": [
       "274739298.8086884"
      ]
     },
     "execution_count": 45,
     "metadata": {},
     "output_type": "execute_result"
    }
   ],
   "source": [
    "average_p('revenue')"
   ]
  },
  {
   "cell_type": "markdown",
   "metadata": {},
   "source": [
    ">So the movies having profit of 60 million dollar and more have an average revenue of 274 million dollar."
   ]
  },
  {
   "cell_type": "markdown",
   "metadata": {},
   "source": [
    "### Research Question 10  Average duration of the movie  (to the profitable movies)"
   ]
  },
  {
   "cell_type": "markdown",
   "metadata": {},
   "source": [
    "### here is strip plot blot  that where is average movie time been \n"
   ]
  },
  {
   "cell_type": "code",
   "execution_count": 63,
   "metadata": {},
   "outputs": [
    {
     "name": "stderr",
     "output_type": "stream",
     "text": [
      "/home/ahmed_elesali/anaconda3/lib/python3.8/site-packages/seaborn/_decorators.py:36: FutureWarning: Pass the following variable as a keyword arg: x. From version 0.12, the only valid positional argument will be `data`, and passing other arguments without an explicit keyword will result in an error or misinterpretation.\n",
      "  warnings.warn(\n"
     ]
    },
    {
     "data": {
      "image/png": "[encoded data removed]",
      "text/plain": [
       "<Figure size 432x288 with 1 Axes>"
      ]
     },
     "metadata": {
      "needs_background": "light"
     },
     "output_type": "display_data"
    }
   ],
   "source": [
    "\n",
    "# visual the run time average of the profitable movie \n",
    "sns.stripplot(profit_movies['runtime'])\n",
    "plt.title('Average Runtime of the profitable movies');\n"
   ]
  },
  {
   "cell_type": "code",
   "execution_count": 47,
   "metadata": {},
   "outputs": [
    {
     "data": {
      "text/plain": [
       "114.06850459482038"
      ]
     },
     "execution_count": 47,
     "metadata": {},
     "output_type": "execute_result"
    }
   ],
   "source": [
    "average_p('runtime')\n"
   ]
  },
  {
   "cell_type": "markdown",
   "metadata": {},
   "source": [
    ">So the movies having profit of 60 million dollar and more have an average duration of 114 minutes."
   ]
  },
  {
   "cell_type": "markdown",
   "metadata": {},
   "source": [
    "<a id='conclusions'></a>\n",
    "## Conclusions\n",
    "> This was a very interesting data analysis. We came out with some very interesting facts about movies. After this analysis we can conclude following:\n",
    ">\n",
    "> **For a Movie to be in successful criteria**\n",
    "> 1. Average Budget must be around 60 millon dollar\n",
    "> 2. Average duration of the movie must be 114 minutes \n",
    "> 3. Any one of these should be in the cast :Tom Cruise, Brad Pitt, Tom Hanks, Sylvester Stallone,Cameron Diaz\n",
    "> 4. Genre must be : Comedy,Action, Adventure,Drama , Thriller.\n",
    ">\n",
    "> By doing all this the movie might be one of the hits and hence can earn an average revenue of around 270 million  dollar.\n",
    ">\n",
    ">**Limitations: **This analysis was done considering the movies which had a significant amount of profit of around 50 million dollar. This might not be completely error free but by following these suggestion one can increase the probability of a movie to become a hit. Moreover we are not sure if the data provided to us is completel corect and up-to-date. As mentioned before the budget and revenue column do not have currency unit, it might be possible different movies have budget in different currency according to the country they are produce in. So a disparity arises here which can state the complete analysis wrong. Dropping the rows with missing values also affected the overall analysis. \n"
   ]
  },
  {
   "cell_type": "code",
   "execution_count": null,
   "metadata": {
    "collapsed": true
   },
   "outputs": [],
   "source": []
  }
 ],
 "metadata": {
  "kernelspec": {
   "display_name": "Python 3",
   "language": "python",
   "name": "python3"
  },
  "language_info": {
   "codemirror_mode": {
    "name": "ipython",
    "version": 3
   },
   "file_extension": ".py",
   "mimetype": "text/x-python",
   "name": "python",
   "nbconvert_exporter": "python",
   "pygments_lexer": "ipython3",
   "version": "3.8.8"
  }
 },
 "nbformat": 4,
 "nbformat_minor": 2
}
